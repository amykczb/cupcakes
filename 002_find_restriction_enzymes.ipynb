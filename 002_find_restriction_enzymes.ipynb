{
 "cells": [
  {
   "cell_type": "code",
   "execution_count": 18,
   "metadata": {},
   "outputs": [
    {
     "data": {
      "text/plain": [
       "[                        Recognition Sequence               Enzyme\n",
       " 0                                    AA/CGTT                 AclI\n",
       " 1                                    A/AGCTT  HindIII HindIII-HF®\n",
       " 2                                    AAT/ATT        SspI SspI-HF®\n",
       " 3                                      /AATT        MluCI Tsp509I\n",
       " 4                                    A/CATGT                 PciI\n",
       " 5                                    A/CCGGT        AgeI AgeI-HF®\n",
       " 6                                ACCTGC(4/8)          BspMI BfuAI\n",
       " 7                                   A/CCWGGT                SexAI\n",
       " 8                                    A/CGCGT        MluI MluI-HF®\n",
       " 9                               ACGGC(12/14)                BceAI\n",
       " 10                                     A/CGT             HpyCH4IV\n",
       " 11                                    ACN/GT            HpyCH4III\n",
       " 12                  (10/15)ACNNNNGTAYC(12/7)                 BaeI\n",
       " 13                   (9/12)ACNNNNNCTCC(10/7)                BsaXI\n",
       " 14                                   A/CRYGT               AflIII\n",
       " 15                                   A/CTAGT        SpeI SpeI-HF®\n",
       " 16                               ACTGG(1/-1)                 BsrI\n",
       " 17                               ACTGGG(5/4)                 BmrI\n",
       " 18                                   A/GATCT                BglII\n",
       " 19                                   AGC/GCT                 AfeI\n",
       " 20                                     AG/CT                 AluI\n",
       " 21                                   AGG/CCT                 StuI\n",
       " 22                                   AGT/ACT        ScaI ScaI-HF®\n",
       " 23                                   AT/CGAT           ClaI BspDI\n",
       " 24   ATCTATGTCGGGTGCGGAGAAAGAGGTAAT(-15/-19)              PI-SceI\n",
       " 25                                   ATGCA/T        NsiI NsiI-HF®\n",
       " 26                                   AT/TAAT                 AseI\n",
       " 27                                 ATTT/AAAT                 SwaI\n",
       " 28                (11/13)CAANNNNNGTGG(12/10)                CspCI\n",
       " 29                                   C/AATTG        MfeI MfeI-HF®\n",
       " ..                                       ...                  ...\n",
       " 210                                  RGCGC/Y                HaeII\n",
       " 211                                    RG/CY              CviKI-1\n",
       " 212                                 RG/GNCCY             EcoO109I\n",
       " 213                                 RG/GWCCY                PpuMI\n",
       " 214      TAACTATAACGGTCCTAAGGTAGCGAA(-9/-13)               I-CeuI\n",
       " 215                                  TAC/GTA                SnaBI\n",
       " 216               TAGGGATAACAGGGTAAT(-9/-13)               I-SceI\n",
       " 217                                  T/CATGA                BspHI\n",
       " 218                                  T/CCGGA                BspEI\n",
       " 219                            TCCRAC(20/18)                 MmeI\n",
       " 220                                    T/CGA                TaqαI\n",
       " 221                                  TCG/CGA        NruI NruI-HF®\n",
       " 222                                   TCN/GA              Hpy188I\n",
       " 223                                  TC/NNGA            Hpy188III\n",
       " 224                                  T/CTAGA                 XbaI\n",
       " 225                                  T/GATCA         BclI BclI-HF\n",
       " 226                                    TG/CA              HpyCH4V\n",
       " 227                                  TGC/GCA                 FspI\n",
       " 228  TGGCAAACAGCTATTATGGGTATTATGGGT(-13/-17)              PI-PspI\n",
       " 229                                  TGG/CCA                 MscI\n",
       " 230                                  T/GTACA      BsrGI BsrGI-HF®\n",
       " 231                                    T/TAA                 MseI\n",
       " 232                                TTAAT/TAA                 PacI\n",
       " 233                                  TTA/TAA                 PsiI\n",
       " 234                                  TT/CGAA                BstBI\n",
       " 235                                  TTT/AAA                 DraI\n",
       " 236                                VC/TCGAGB                PspXI\n",
       " 237                                  W/CCGGW                BsaWI\n",
       " 238                                  YAC/GTR                BsaAI\n",
       " 239                                  Y/GGCCR                 EaeI\n",
       " \n",
       " [240 rows x 2 columns]]"
      ]
     },
     "execution_count": 18,
     "metadata": {},
     "output_type": "execute_result"
    }
   ],
   "source": [
    "import pandas as pd\n",
    "\n",
    "dataframes = pd.read_html('https://www.neb.com/tools-and-resources/selection-charts/alphabetized-list-of-recognition-specificities')\n",
    "dataframes"
   ]
  },
  {
   "cell_type": "code",
   "execution_count": 20,
   "metadata": {},
   "outputs": [
    {
     "name": "stdout",
     "output_type": "stream",
     "text": [
      "(240, 2)\n"
     ]
    },
    {
     "data": {
      "text/html": [
       "<div>\n",
       "<style>\n",
       "    .dataframe thead tr:only-child th {\n",
       "        text-align: right;\n",
       "    }\n",
       "\n",
       "    .dataframe thead th {\n",
       "        text-align: left;\n",
       "    }\n",
       "\n",
       "    .dataframe tbody tr th {\n",
       "        vertical-align: top;\n",
       "    }\n",
       "</style>\n",
       "<table border=\"1\" class=\"dataframe\">\n",
       "  <thead>\n",
       "    <tr style=\"text-align: right;\">\n",
       "      <th></th>\n",
       "      <th>Recognition Sequence</th>\n",
       "      <th>Enzyme</th>\n",
       "    </tr>\n",
       "  </thead>\n",
       "  <tbody>\n",
       "    <tr>\n",
       "      <th>0</th>\n",
       "      <td>AA/CGTT</td>\n",
       "      <td>AclI</td>\n",
       "    </tr>\n",
       "    <tr>\n",
       "      <th>1</th>\n",
       "      <td>A/AGCTT</td>\n",
       "      <td>HindIII HindIII-HF®</td>\n",
       "    </tr>\n",
       "    <tr>\n",
       "      <th>2</th>\n",
       "      <td>AAT/ATT</td>\n",
       "      <td>SspI SspI-HF®</td>\n",
       "    </tr>\n",
       "    <tr>\n",
       "      <th>3</th>\n",
       "      <td>/AATT</td>\n",
       "      <td>MluCI Tsp509I</td>\n",
       "    </tr>\n",
       "    <tr>\n",
       "      <th>4</th>\n",
       "      <td>A/CATGT</td>\n",
       "      <td>PciI</td>\n",
       "    </tr>\n",
       "  </tbody>\n",
       "</table>\n",
       "</div>"
      ],
      "text/plain": [
       "  Recognition Sequence               Enzyme\n",
       "0              AA/CGTT                 AclI\n",
       "1              A/AGCTT  HindIII HindIII-HF®\n",
       "2              AAT/ATT        SspI SspI-HF®\n",
       "3                /AATT        MluCI Tsp509I\n",
       "4              A/CATGT                 PciI"
      ]
     },
     "execution_count": 20,
     "metadata": {},
     "output_type": "execute_result"
    }
   ],
   "source": [
    "restriction_enzymes = dataframes[0]\n",
    "print(restriction_enzymes.shape)\n",
    "restriction_enzymes.head()"
   ]
  },
  {
   "cell_type": "markdown",
   "metadata": {},
   "source": [
    "All restriction endonuclease recognition specificities available from New England Biolabs are listed below. For enzymes that recognize non-palindromic sequences, the complementary sequence of each strand is listed. For example, CCTC(7/6) and (6/7)GAGG both represent an MnlI (NEB #R0163) site.\n",
    "\n",
    "All recognition sequences are written 5´ to 3´ using the single letter code nomenclature with the point of cleavage indicated by a \"/\".\n",
    "\n",
    "Numbers in parentheses indicate point of cleaveage for non-palindromic enzymes.\n",
    "\n",
    "For example, GGTCTC(1/5) indicates cleavage at:\n",
    "\n",
    "    5´ ...GGTCTCN/...3´\n",
    "    3´ ...CCAGAGNNNNN/...5´\n",
    "  \n",
    "How to show an image:\n",
    "![](https://www.neb.com/~/media/NebUs/Page%20Images/Tools%20and%20Resources/charts/singlelettercode.jpg?device=modal)"
   ]
  },
  {
   "cell_type": "markdown",
   "metadata": {},
   "source": [
    "Get only the palindromic sequences, the ones that don't have parentheses"
   ]
  },
  {
   "cell_type": "code",
   "execution_count": 24,
   "metadata": {},
   "outputs": [
    {
     "data": {
      "text/plain": [
       "0      False\n",
       "1      False\n",
       "2      False\n",
       "3      False\n",
       "4      False\n",
       "5      False\n",
       "6       True\n",
       "7      False\n",
       "8      False\n",
       "9       True\n",
       "10     False\n",
       "11     False\n",
       "12      True\n",
       "13      True\n",
       "14     False\n",
       "15     False\n",
       "16      True\n",
       "17      True\n",
       "18     False\n",
       "19     False\n",
       "20     False\n",
       "21     False\n",
       "22     False\n",
       "23     False\n",
       "24      True\n",
       "25     False\n",
       "26     False\n",
       "27     False\n",
       "28      True\n",
       "29     False\n",
       "       ...  \n",
       "210    False\n",
       "211    False\n",
       "212    False\n",
       "213    False\n",
       "214     True\n",
       "215    False\n",
       "216     True\n",
       "217    False\n",
       "218    False\n",
       "219     True\n",
       "220    False\n",
       "221    False\n",
       "222    False\n",
       "223    False\n",
       "224    False\n",
       "225    False\n",
       "226    False\n",
       "227    False\n",
       "228     True\n",
       "229    False\n",
       "230    False\n",
       "231    False\n",
       "232    False\n",
       "233    False\n",
       "234    False\n",
       "235    False\n",
       "236    False\n",
       "237    False\n",
       "238    False\n",
       "239    False\n",
       "Name: Recognition Sequence, Length: 240, dtype: bool"
      ]
     },
     "execution_count": 24,
     "metadata": {},
     "output_type": "execute_result"
    }
   ],
   "source": [
    "restriction_enzymes['Recognition Sequence'].str.contains('\\(') "
   ]
  },
  {
   "cell_type": "markdown",
   "metadata": {},
   "source": [
    "The `~` means \"not\" so it reverses the True/False from above"
   ]
  },
  {
   "cell_type": "code",
   "execution_count": 26,
   "metadata": {},
   "outputs": [
    {
     "data": {
      "text/plain": [
       "0       True\n",
       "1       True\n",
       "2       True\n",
       "3       True\n",
       "4       True\n",
       "5       True\n",
       "6      False\n",
       "7       True\n",
       "8       True\n",
       "9      False\n",
       "10      True\n",
       "11      True\n",
       "12     False\n",
       "13     False\n",
       "14      True\n",
       "15      True\n",
       "16     False\n",
       "17     False\n",
       "18      True\n",
       "19      True\n",
       "20      True\n",
       "21      True\n",
       "22      True\n",
       "23      True\n",
       "24     False\n",
       "25      True\n",
       "26      True\n",
       "27      True\n",
       "28     False\n",
       "29      True\n",
       "       ...  \n",
       "210     True\n",
       "211     True\n",
       "212     True\n",
       "213     True\n",
       "214    False\n",
       "215     True\n",
       "216    False\n",
       "217     True\n",
       "218     True\n",
       "219    False\n",
       "220     True\n",
       "221     True\n",
       "222     True\n",
       "223     True\n",
       "224     True\n",
       "225     True\n",
       "226     True\n",
       "227     True\n",
       "228    False\n",
       "229     True\n",
       "230     True\n",
       "231     True\n",
       "232     True\n",
       "233     True\n",
       "234     True\n",
       "235     True\n",
       "236     True\n",
       "237     True\n",
       "238     True\n",
       "239     True\n",
       "Name: Recognition Sequence, Length: 240, dtype: bool"
      ]
     },
     "execution_count": 26,
     "metadata": {},
     "output_type": "execute_result"
    }
   ],
   "source": [
    "~restriction_enzymes['Recognition Sequence'].str.contains('\\(')"
   ]
  },
  {
   "cell_type": "code",
   "execution_count": 28,
   "metadata": {},
   "outputs": [
    {
     "name": "stdout",
     "output_type": "stream",
     "text": [
      "(175, 2)\n"
     ]
    },
    {
     "data": {
      "text/html": [
       "<div>\n",
       "<style>\n",
       "    .dataframe thead tr:only-child th {\n",
       "        text-align: right;\n",
       "    }\n",
       "\n",
       "    .dataframe thead th {\n",
       "        text-align: left;\n",
       "    }\n",
       "\n",
       "    .dataframe tbody tr th {\n",
       "        vertical-align: top;\n",
       "    }\n",
       "</style>\n",
       "<table border=\"1\" class=\"dataframe\">\n",
       "  <thead>\n",
       "    <tr style=\"text-align: right;\">\n",
       "      <th></th>\n",
       "      <th>Recognition Sequence</th>\n",
       "      <th>Enzyme</th>\n",
       "    </tr>\n",
       "  </thead>\n",
       "  <tbody>\n",
       "    <tr>\n",
       "      <th>0</th>\n",
       "      <td>AA/CGTT</td>\n",
       "      <td>AclI</td>\n",
       "    </tr>\n",
       "    <tr>\n",
       "      <th>1</th>\n",
       "      <td>A/AGCTT</td>\n",
       "      <td>HindIII HindIII-HF®</td>\n",
       "    </tr>\n",
       "    <tr>\n",
       "      <th>2</th>\n",
       "      <td>AAT/ATT</td>\n",
       "      <td>SspI SspI-HF®</td>\n",
       "    </tr>\n",
       "    <tr>\n",
       "      <th>3</th>\n",
       "      <td>/AATT</td>\n",
       "      <td>MluCI Tsp509I</td>\n",
       "    </tr>\n",
       "    <tr>\n",
       "      <th>4</th>\n",
       "      <td>A/CATGT</td>\n",
       "      <td>PciI</td>\n",
       "    </tr>\n",
       "  </tbody>\n",
       "</table>\n",
       "</div>"
      ],
      "text/plain": [
       "  Recognition Sequence               Enzyme\n",
       "0              AA/CGTT                 AclI\n",
       "1              A/AGCTT  HindIII HindIII-HF®\n",
       "2              AAT/ATT        SspI SspI-HF®\n",
       "3                /AATT        MluCI Tsp509I\n",
       "4              A/CATGT                 PciI"
      ]
     },
     "execution_count": 28,
     "metadata": {},
     "output_type": "execute_result"
    }
   ],
   "source": [
    "palindromic = restriction_enzymes.loc[~restriction_enzymes['Recognition Sequence'].str.contains('\\(')]\n",
    "print(palindromic.shape)\n",
    "palindromic.head()"
   ]
  },
  {
   "cell_type": "markdown",
   "metadata": {},
   "source": [
    "The brackets mean if ANYTHING within the brackets matches, return True"
   ]
  },
  {
   "cell_type": "code",
   "execution_count": 44,
   "metadata": {},
   "outputs": [
    {
     "data": {
      "text/plain": [
       "0      False\n",
       "1      False\n",
       "2      False\n",
       "3      False\n",
       "4      False\n",
       "5      False\n",
       "7       True\n",
       "8      False\n",
       "10     False\n",
       "11      True\n",
       "14      True\n",
       "15     False\n",
       "18     False\n",
       "19     False\n",
       "20     False\n",
       "21     False\n",
       "22     False\n",
       "23     False\n",
       "25     False\n",
       "26     False\n",
       "27     False\n",
       "29     False\n",
       "31     False\n",
       "33     False\n",
       "34      True\n",
       "35      True\n",
       "37     False\n",
       "38      True\n",
       "40      True\n",
       "41     False\n",
       "       ...  \n",
       "206     True\n",
       "207     True\n",
       "208     True\n",
       "209     True\n",
       "210     True\n",
       "211     True\n",
       "212     True\n",
       "213     True\n",
       "215    False\n",
       "217    False\n",
       "218    False\n",
       "220    False\n",
       "221    False\n",
       "222     True\n",
       "223     True\n",
       "224    False\n",
       "225    False\n",
       "226    False\n",
       "227    False\n",
       "229    False\n",
       "230    False\n",
       "231    False\n",
       "232    False\n",
       "233    False\n",
       "234    False\n",
       "235    False\n",
       "236     True\n",
       "237     True\n",
       "238     True\n",
       "239     True\n",
       "Name: Recognition Sequence, Length: 175, dtype: bool"
      ]
     },
     "execution_count": 44,
     "metadata": {},
     "output_type": "execute_result"
    }
   ],
   "source": [
    "palindromic['Recognition Sequence'].str.contains('[BDHKMNRSVWY]')"
   ]
  },
  {
   "cell_type": "code",
   "execution_count": 47,
   "metadata": {},
   "outputs": [
    {
     "name": "stdout",
     "output_type": "stream",
     "text": [
      "(100, 2)\n"
     ]
    },
    {
     "data": {
      "text/html": [
       "<div>\n",
       "<style>\n",
       "    .dataframe thead tr:only-child th {\n",
       "        text-align: right;\n",
       "    }\n",
       "\n",
       "    .dataframe thead th {\n",
       "        text-align: left;\n",
       "    }\n",
       "\n",
       "    .dataframe tbody tr th {\n",
       "        vertical-align: top;\n",
       "    }\n",
       "</style>\n",
       "<table border=\"1\" class=\"dataframe\">\n",
       "  <thead>\n",
       "    <tr style=\"text-align: right;\">\n",
       "      <th></th>\n",
       "      <th>Recognition Sequence</th>\n",
       "      <th>Enzyme</th>\n",
       "    </tr>\n",
       "  </thead>\n",
       "  <tbody>\n",
       "    <tr>\n",
       "      <th>0</th>\n",
       "      <td>AA/CGTT</td>\n",
       "      <td>AclI</td>\n",
       "    </tr>\n",
       "    <tr>\n",
       "      <th>1</th>\n",
       "      <td>A/AGCTT</td>\n",
       "      <td>HindIII HindIII-HF®</td>\n",
       "    </tr>\n",
       "    <tr>\n",
       "      <th>2</th>\n",
       "      <td>AAT/ATT</td>\n",
       "      <td>SspI SspI-HF®</td>\n",
       "    </tr>\n",
       "    <tr>\n",
       "      <th>3</th>\n",
       "      <td>/AATT</td>\n",
       "      <td>MluCI Tsp509I</td>\n",
       "    </tr>\n",
       "    <tr>\n",
       "      <th>4</th>\n",
       "      <td>A/CATGT</td>\n",
       "      <td>PciI</td>\n",
       "    </tr>\n",
       "    <tr>\n",
       "      <th>5</th>\n",
       "      <td>A/CCGGT</td>\n",
       "      <td>AgeI AgeI-HF®</td>\n",
       "    </tr>\n",
       "    <tr>\n",
       "      <th>8</th>\n",
       "      <td>A/CGCGT</td>\n",
       "      <td>MluI MluI-HF®</td>\n",
       "    </tr>\n",
       "    <tr>\n",
       "      <th>10</th>\n",
       "      <td>A/CGT</td>\n",
       "      <td>HpyCH4IV</td>\n",
       "    </tr>\n",
       "    <tr>\n",
       "      <th>15</th>\n",
       "      <td>A/CTAGT</td>\n",
       "      <td>SpeI SpeI-HF®</td>\n",
       "    </tr>\n",
       "    <tr>\n",
       "      <th>18</th>\n",
       "      <td>A/GATCT</td>\n",
       "      <td>BglII</td>\n",
       "    </tr>\n",
       "  </tbody>\n",
       "</table>\n",
       "</div>"
      ],
      "text/plain": [
       "   Recognition Sequence               Enzyme\n",
       "0               AA/CGTT                 AclI\n",
       "1               A/AGCTT  HindIII HindIII-HF®\n",
       "2               AAT/ATT        SspI SspI-HF®\n",
       "3                 /AATT        MluCI Tsp509I\n",
       "4               A/CATGT                 PciI\n",
       "5               A/CCGGT        AgeI AgeI-HF®\n",
       "8               A/CGCGT        MluI MluI-HF®\n",
       "10                A/CGT             HpyCH4IV\n",
       "15              A/CTAGT        SpeI SpeI-HF®\n",
       "18              A/GATCT                BglII"
      ]
     },
     "execution_count": 47,
     "metadata": {},
     "output_type": "execute_result"
    }
   ],
   "source": [
    "palindromic_acgt = palindromic.loc[~palindromic['Recognition Sequence'].str.contains('[BDHKMRSVWYN]')]\n",
    "print(palindromic_acgt.shape)\n",
    "palindromic_acgt.head(10)"
   ]
  },
  {
   "cell_type": "code",
   "execution_count": 48,
   "metadata": {},
   "outputs": [
    {
     "name": "stdout",
     "output_type": "stream",
     "text": [
      "(100, 3)\n"
     ]
    },
    {
     "name": "stderr",
     "output_type": "stream",
     "text": [
      "/Users/olgabot/anaconda3/envs/maca-dash/lib/python3.6/site-packages/ipykernel_launcher.py:1: SettingWithCopyWarning: \n",
      "A value is trying to be set on a copy of a slice from a DataFrame.\n",
      "Try using .loc[row_indexer,col_indexer] = value instead\n",
      "\n",
      "See the caveats in the documentation: http://pandas.pydata.org/pandas-docs/stable/indexing.html#indexing-view-versus-copy\n",
      "  \"\"\"Entry point for launching an IPython kernel.\n"
     ]
    },
    {
     "data": {
      "text/html": [
       "<div>\n",
       "<style>\n",
       "    .dataframe thead tr:only-child th {\n",
       "        text-align: right;\n",
       "    }\n",
       "\n",
       "    .dataframe thead th {\n",
       "        text-align: left;\n",
       "    }\n",
       "\n",
       "    .dataframe tbody tr th {\n",
       "        vertical-align: top;\n",
       "    }\n",
       "</style>\n",
       "<table border=\"1\" class=\"dataframe\">\n",
       "  <thead>\n",
       "    <tr style=\"text-align: right;\">\n",
       "      <th></th>\n",
       "      <th>Recognition Sequence</th>\n",
       "      <th>Enzyme</th>\n",
       "      <th>sequence_no_slash</th>\n",
       "    </tr>\n",
       "  </thead>\n",
       "  <tbody>\n",
       "    <tr>\n",
       "      <th>0</th>\n",
       "      <td>AA/CGTT</td>\n",
       "      <td>AclI</td>\n",
       "      <td>AACGTT</td>\n",
       "    </tr>\n",
       "    <tr>\n",
       "      <th>1</th>\n",
       "      <td>A/AGCTT</td>\n",
       "      <td>HindIII HindIII-HF®</td>\n",
       "      <td>AAGCTT</td>\n",
       "    </tr>\n",
       "    <tr>\n",
       "      <th>2</th>\n",
       "      <td>AAT/ATT</td>\n",
       "      <td>SspI SspI-HF®</td>\n",
       "      <td>AATATT</td>\n",
       "    </tr>\n",
       "    <tr>\n",
       "      <th>3</th>\n",
       "      <td>/AATT</td>\n",
       "      <td>MluCI Tsp509I</td>\n",
       "      <td>AATT</td>\n",
       "    </tr>\n",
       "    <tr>\n",
       "      <th>4</th>\n",
       "      <td>A/CATGT</td>\n",
       "      <td>PciI</td>\n",
       "      <td>ACATGT</td>\n",
       "    </tr>\n",
       "  </tbody>\n",
       "</table>\n",
       "</div>"
      ],
      "text/plain": [
       "  Recognition Sequence               Enzyme sequence_no_slash\n",
       "0              AA/CGTT                 AclI            AACGTT\n",
       "1              A/AGCTT  HindIII HindIII-HF®            AAGCTT\n",
       "2              AAT/ATT        SspI SspI-HF®            AATATT\n",
       "3                /AATT        MluCI Tsp509I              AATT\n",
       "4              A/CATGT                 PciI            ACATGT"
      ]
     },
     "execution_count": 48,
     "metadata": {},
     "output_type": "execute_result"
    }
   ],
   "source": [
    "palindromic_acgt['sequence_no_slash'] = palindromic_acgt['Recognition Sequence'].str.replace('/', '')\n",
    "print(palindromic_acgt.shape)\n",
    "palindromic_acgt.head()"
   ]
  },
  {
   "cell_type": "code",
   "execution_count": 61,
   "metadata": {},
   "outputs": [
    {
     "name": "stdout",
     "output_type": "stream",
     "text": [
      "ACGCGT not found in EU224440.2!\tEnzyme: MluI MluI-HF®\n",
      "AGCGCT not found in EU224440.2!\tEnzyme: AfeI\n",
      "CCTCAGC not found in EU224440.2!\tEnzyme: Nb.BbvCI\n",
      "CCTGCAGG not found in EU224440.2!\tEnzyme: SbfI SbfI-HF®\n",
      "CGTACG not found in EU224440.2!\tEnzyme: BsiWI BsiWI-HF®\n",
      "GCCCGGGC not found in EU224440.2!\tEnzyme: SrfI\n",
      "GCGATCGC not found in EU224440.2!\tEnzyme: AsiSI\n",
      "GCGGCCGC not found in EU224440.2!\tEnzyme: NotI NotI-HF®\n",
      "GGCCGGCC not found in EU224440.2!\tEnzyme: FseI\n",
      "GGCGCGCC not found in EU224440.2!\tEnzyme: AscI\n",
      "GTTTAAAC not found in EU224440.2!\tEnzyme: PmeI\n",
      "TACGTA not found in EU224440.2!\tEnzyme: SnaBI\n",
      "TGCGCA not found in EU224440.2!\tEnzyme: FspI\n"
     ]
    }
   ],
   "source": [
    "from Bio import SeqIO\n",
    "\n",
    "records = SeqIO.parse('/Users/olgabot/Downloads/sequence.fasta', 'fasta')\n",
    "records\n",
    "\n",
    "for record in records:\n",
    "    for i, (original, enzyme, sequence) in palindromic_acgt.iterrows():\n",
    "        if sequence in record:\n",
    "            pass\n",
    "#             print(f'{sequence} found!')\n",
    "        else:\n",
    "            print(f'{sequence} not found in {record.id}!\\tEnzyme: {enzyme}')"
   ]
  },
  {
   "cell_type": "markdown",
   "metadata": {},
   "source": [
    "There's a difference between:\n",
    "\n",
    "* Parentheses: `()`\n",
    "* Brackets: `[]`\n",
    "* Curly braces: `{}`"
   ]
  },
  {
   "cell_type": "code",
   "execution_count": null,
   "metadata": {
    "collapsed": true
   },
   "outputs": [],
   "source": []
  }
 ],
 "metadata": {
  "kernelspec": {
   "display_name": "Python 3 (maca-dash)",
   "language": "python",
   "name": "myenv"
  },
  "language_info": {
   "codemirror_mode": {
    "name": "ipython",
    "version": 3
   },
   "file_extension": ".py",
   "mimetype": "text/x-python",
   "name": "python",
   "nbconvert_exporter": "python",
   "pygments_lexer": "ipython3",
   "version": "3.6.2"
  }
 },
 "nbformat": 4,
 "nbformat_minor": 2
}
