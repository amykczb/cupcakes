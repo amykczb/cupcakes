{
 "cells": [
  {
   "cell_type": "code",
   "execution_count": 5,
   "metadata": {},
   "outputs": [
    {
     "data": {
      "text/plain": [
       "Nucleotide\n",
       "B            [CGTBSKY]\n",
       "D            [AGTDRWK]\n",
       "H            [ACTHMYW]\n",
       "K                [GTK]\n",
       "M                [ACM]\n",
       "N    [ACGTBDHKMNRSVWY]\n",
       "R                [AGR]\n",
       "S                [CGS]\n",
       "V            [ACGVMSR]\n",
       "W                [ATW]\n",
       "Y                [CTY]\n",
       "Name: Regexp pattern, dtype: object"
      ]
     },
     "execution_count": 5,
     "metadata": {},
     "output_type": "execute_result"
    }
   ],
   "source": [
    "import pandas as pd\n",
    "from io import StringIO\n",
    "\n",
    "s = '''\n",
    "Nucleotide\tRegexp pattern\n",
    "B\t[CGTBSKY]\n",
    "D\t[AGTDRWK]\n",
    "H\t[ACTHMYW]\n",
    "K\t[GTK]\n",
    "M\t[ACM]\n",
    "N\t[ACGTBDHKMNRSVWY]\n",
    "R\t[AGR]\n",
    "S\t[CGS]\n",
    "V\t[ACGVMSR]\n",
    "W\t[ATW]\n",
    "Y\t[CTY]'''\n",
    "\n",
    "degenerate_dna_to_regex = pd.read_table(StringIO(s), index_col=0, squeeze=True)\n",
    "degenerate_dna_to_regex"
   ]
  },
  {
   "cell_type": "markdown",
   "metadata": {},
   "source": [
    "Remove all letters that aren't square brackets or ACGT"
   ]
  },
  {
   "cell_type": "code",
   "execution_count": 9,
   "metadata": {},
   "outputs": [
    {
     "data": {
      "text/plain": [
       "Nucleotide\n",
       "B     [CGT]\n",
       "D     [AGT]\n",
       "H     [ACT]\n",
       "K      [GT]\n",
       "M      [AC]\n",
       "N    [ACGT]\n",
       "R      [AG]\n",
       "S      [CG]\n",
       "V     [ACG]\n",
       "W      [AT]\n",
       "Y      [CT]\n",
       "Name: Regexp pattern, dtype: object"
      ]
     },
     "execution_count": 9,
     "metadata": {},
     "output_type": "execute_result"
    }
   ],
   "source": [
    "degenerate_dna_to_regex = degenerate_dna_to_regex.str.replace('[^\\[\\]ACGT]', '')"
   ]
  },
  {
   "cell_type": "markdown",
   "metadata": {},
   "source": [
    "Make a dataframe with restriction enzyme sequences like we had"
   ]
  },
  {
   "cell_type": "code",
   "execution_count": 15,
   "metadata": {},
   "outputs": [
    {
     "data": {
      "text/html": [
       "<div>\n",
       "<table border=\"1\" class=\"dataframe\">\n",
       "  <thead>\n",
       "    <tr style=\"text-align: right;\">\n",
       "      <th></th>\n",
       "      <th>enzyme</th>\n",
       "      <th>sequence</th>\n",
       "    </tr>\n",
       "  </thead>\n",
       "  <tbody>\n",
       "    <tr>\n",
       "      <th>0</th>\n",
       "      <td>Olga II</td>\n",
       "      <td>BANANA</td>\n",
       "    </tr>\n",
       "  </tbody>\n",
       "</table>\n",
       "</div>"
      ],
      "text/plain": [
       "    enzyme sequence\n",
       "0  Olga II   BANANA"
      ]
     },
     "execution_count": 15,
     "metadata": {},
     "output_type": "execute_result"
    }
   ],
   "source": [
    "sequence = \"BANANA\"\n",
    "\n",
    "enzyme_sequences = pd.DataFrame({'enzyme': ['Olga II'], 'sequence': [sequence]})\n",
    "enzyme_sequences"
   ]
  },
  {
   "cell_type": "code",
   "execution_count": 16,
   "metadata": {},
   "outputs": [
    {
     "ename": "TypeError",
     "evalue": "replace() missing 1 required positional argument: 'repl'",
     "output_type": "error",
     "traceback": [
      "\u001b[0;31m---------------------------------------------------------------------------\u001b[0m",
      "\u001b[0;31mTypeError\u001b[0m                                 Traceback (most recent call last)",
      "\u001b[0;32m<ipython-input-16-6b5b355fead7>\u001b[0m in \u001b[0;36m<module>\u001b[0;34m()\u001b[0m\n\u001b[0;32m----> 1\u001b[0;31m \u001b[0menzyme_sequences\u001b[0m\u001b[0;34m[\u001b[0m\u001b[0;34m'sequence'\u001b[0m\u001b[0;34m]\u001b[0m\u001b[0;34m.\u001b[0m\u001b[0mstr\u001b[0m\u001b[0;34m.\u001b[0m\u001b[0mreplace\u001b[0m\u001b[0;34m(\u001b[0m\u001b[0mdegenerate_dna_to_regex\u001b[0m\u001b[0;34m)\u001b[0m\u001b[0;34m\u001b[0m\u001b[0m\n\u001b[0m",
      "\u001b[0;31mTypeError\u001b[0m: replace() missing 1 required positional argument: 'repl'"
     ]
    }
   ],
   "source": [
    "enzyme_sequences['sequence'].str.replace(degenerate_dna_to_regex)"
   ]
  },
  {
   "cell_type": "code",
   "execution_count": null,
   "metadata": {
    "collapsed": true
   },
   "outputs": [],
   "source": []
  }
 ],
 "metadata": {
  "kernelspec": {
   "display_name": "Python 3",
   "language": "python",
   "name": "python3"
  },
  "language_info": {
   "codemirror_mode": {
    "name": "ipython",
    "version": 3
   },
   "file_extension": ".py",
   "mimetype": "text/x-python",
   "name": "python",
   "nbconvert_exporter": "python",
   "pygments_lexer": "ipython3",
   "version": "3.5.2"
  }
 },
 "nbformat": 4,
 "nbformat_minor": 2
}
